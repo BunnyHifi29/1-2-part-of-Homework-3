{
  "nbformat": 4,
  "nbformat_minor": 0,
  "metadata": {
    "colab": {
      "provenance": [],
      "authorship_tag": "ABX9TyPqIbxq+sDXhH/lLlThajPI",
      "include_colab_link": true
    },
    "kernelspec": {
      "name": "python3",
      "display_name": "Python 3"
    },
    "language_info": {
      "name": "python"
    }
  },
  "cells": [
    {
      "cell_type": "markdown",
      "metadata": {
        "id": "view-in-github",
        "colab_type": "text"
      },
      "source": [
        "<a href=\"https://colab.research.google.com/github/BunnyHifi29/1-2-part-of-Homework-3/blob/main/Mid_Term_Project.ipynb\" target=\"_parent\"><img src=\"https://colab.research.google.com/assets/colab-badge.svg\" alt=\"Open In Colab\"/></a>"
      ]
    },
    {
      "cell_type": "code",
      "execution_count": 1,
      "metadata": {
        "colab": {
          "base_uri": "https://localhost:8080/"
        },
        "id": "iGvh_CE2WYdu",
        "outputId": "7df45e0c-b847-4525-8a4c-9e9fb0428451"
      },
      "outputs": [
        {
          "output_type": "stream",
          "name": "stdout",
          "text": [
            "Valid Card Number\n"
          ]
        }
      ],
      "source": [
        "def luhn_checksum(card_number):\n",
        "    def digits_of(n):\n",
        "        return [int(d) for d in str(n)]\n",
        "    digits = digits_of(card_number)\n",
        "    odd_digits = digits[-1::-2]\n",
        "    even_digits = digits[-2::-2]\n",
        "    checksum = 0\n",
        "    checksum += sum(odd_digits)\n",
        "    for d in even_digits:\n",
        "        checksum += sum(digits_of(d*2))\n",
        "    return checksum % 10\n",
        "\n",
        "print('Valid Card Number') if luhn_checksum(\"4532015112830366\")==0 else print('Invalid Card Number')"
      ]
    }
  ]
}