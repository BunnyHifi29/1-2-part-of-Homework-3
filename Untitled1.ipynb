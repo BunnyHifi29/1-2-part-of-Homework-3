{
  "nbformat": 4,
  "nbformat_minor": 0,
  "metadata": {
    "colab": {
      "provenance": [],
      "authorship_tag": "ABX9TyOBm8ac/cbR0tpfSI6JA93F",
      "include_colab_link": true
    },
    "kernelspec": {
      "name": "python3",
      "display_name": "Python 3"
    },
    "language_info": {
      "name": "python"
    }
  },
  "cells": [
    {
      "cell_type": "markdown",
      "metadata": {
        "id": "view-in-github",
        "colab_type": "text"
      },
      "source": [
        "<a href=\"https://colab.research.google.com/github/BunnyHifi29/1-2-part-of-Homework-3/blob/main/Untitled1.ipynb\" target=\"_parent\"><img src=\"https://colab.research.google.com/assets/colab-badge.svg\" alt=\"Open In Colab\"/></a>"
      ]
    },
    {
      "cell_type": "code",
      "execution_count": null,
      "metadata": {
        "id": "G0jJvje8vj1C"
      },
      "outputs": [],
      "source": [
        "#Homework 3\n",
        "Book = int(input(\"enter the books: \"))\n",
        "\n",
        "if (Book <= 1):\n",
        "    print(\"you have 0 points\")\n",
        "\n",
        "if (Book > 1) and (Book < 2):\n",
        "    print(\"you have 5 points\")\n",
        "\n",
        "if Book >=2 and (Book < 4):\n",
        "    print(\"you have 15 points\")\n",
        "    \n",
        "if Book >=4 and (Book < 6):\n",
        "    print(\"you have 30 points\")\n",
        "    \n",
        "if Book > 8:\n",
        "    print(\"you have 60 points\")\n",
        "\n",
        "\n",
        "\n",
        "\n",
        "#Homework 3 Part 2\n",
        "PENNY = .01\n",
        "NICKEL = .05\n",
        "DIME = .10\n",
        "QUARTER = .25\n",
        "\n",
        "pennies = float(input(\"Enter number of pennies: \"))\n",
        "nickels = float(input(\"Enter number of nickels: \"))\n",
        "dimes = float(input(\"Enter number of dimes: \"))\n",
        "quarters = float(input(\"Enter number of quarters: \"))\n",
        "\n",
        "pennies *= PENNY # pennies = pennies * PENNY\n",
        "nickels *= NICKEL\n",
        "dimes *= DIME\n",
        "quarters *= QUARTER\n",
        "\n",
        "total = pennies + nickels + dimes + quarters\n",
        "\n",
        "message = \"\""
      ]
    }
  ]
}