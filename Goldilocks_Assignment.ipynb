{
  "nbformat": 4,
  "nbformat_minor": 0,
  "metadata": {
    "colab": {
      "provenance": [],
      "authorship_tag": "ABX9TyNLXPn2Qe8/BNjqa5K0UKyn",
      "include_colab_link": true
    },
    "kernelspec": {
      "name": "python3",
      "display_name": "Python 3"
    },
    "language_info": {
      "name": "python"
    }
  },
  "cells": [
    {
      "cell_type": "markdown",
      "metadata": {
        "id": "view-in-github",
        "colab_type": "text"
      },
      "source": [
        "<a href=\"https://colab.research.google.com/github/BunnyHifi29/1-2-part-of-Homework-3/blob/main/Goldilocks_Assignment.ipynb\" target=\"_parent\"><img src=\"https://colab.research.google.com/assets/colab-badge.svg\" alt=\"Open In Colab\"/></a>"
      ]
    },
    {
      "cell_type": "code",
      "execution_count": null,
      "metadata": {
        "id": "Zf6xnndI52PJ"
      },
      "outputs": [],
      "source": [
        "\"The Story of Goldilocks and the Three Bears\n",
        "Once upon a time, there was a little girl named Goldilocks. She went for a walk in the forest. Pretty soon, she\n",
        "came upon a house. She knocked and, when no one answered, she walked right in.\n",
        "At the table in the kitchen, there were three bowls of porridge. Goldilocks was hungry. She tasted the porridge\n",
        "from the first bowl.\n",
        "\"This porridge is too hot!\" she exclaimed.\n",
        "So, she tasted the porridge from the second bowl.\n",
        "\"This porridge is too cold,\" she said\n",
        "So, she tasted the last bowl of porridge.\n",
        "\"Ahhh, this porridge is just right,\" she said happily and she ate it all up.\n",
        "After she'd eaten the three bears' breakfasts she decided she was feeling a little tired. So, she walked into the\n",
        "living room where she saw three chairs. Goldilocks sat in the first chair to rest her feet.\n",
        "\"This chair is too big!\" she exclaimed.\n",
        "So she sat in the second chair.\n",
        "\"This chair is too big, too!\" she whined.\n",
        "So she tried the last and smallest chair.\n",
        "\"Ahhh, this chair is just right,\" she sighed. But just as she settled down into the chair to rest, it broke into\n",
        "pieces!\n",
        "Goldilocks was very tired by this time, so she went upstairs to the bedroom. She lay down in the first bed, but it\n",
        "was too hard. Then she lay in the second bed, but it was too soft. Then she lay down in the third bed and it was\n",
        "just right. Goldilocks fell asleep.\n",
        "As she was sleeping, the three bears came home.\n",
        "\"Someone's been eating my porridge,\" growled the Papa bear.\n",
        "\"Someone's been eating my porridge,\" said the Mama bear.\n",
        "\"Someone's been eating my porridge and they ate it all up!\" cried the Baby bear.\n",
        "\"Someone's been sitting in my chair,\" growled the Papa bear.\n",
        "\"Someone's been sitting in my chair,\" said the Mama bear.\n",
        "\"Someone's been sitting in my chair and they've broken it all to pieces,\" cried the Baby bear.\n",
        "They decided to look around some more and when they got upstairs to the bedroom, Papa bear growled,\n",
        "\"Someone's been sleeping in my bed,\"\n",
        "\"Someone's been sleeping in my bed, too\" said the Mama bear\n",
        "\"Someone's been sleeping in my bed and she's still there!\" exclaimed Baby bear.\n",
        "Just then, Goldilocks woke up and saw the three bears. She screamed, \"Help!\" And she jumped up and ran out\n",
        "of the room. Goldilocks ran down the stairs, opened the door, and ran away into the forest. And she never\n",
        "returned to the home of the three bears.\n",
        "THE END\"\n"
      ]
    }
  ]
}